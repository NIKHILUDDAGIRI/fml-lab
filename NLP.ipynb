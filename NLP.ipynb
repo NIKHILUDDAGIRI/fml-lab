{
  "nbformat": 4,
  "nbformat_minor": 0,
  "metadata": {
    "colab": {
      "provenance": [],
      "toc_visible": true,
      "authorship_tag": "ABX9TyPWbNs9YHFm+lIm2HFQ0hBA",
      "include_colab_link": true
    },
    "kernelspec": {
      "name": "python3",
      "display_name": "Python 3"
    },
    "language_info": {
      "name": "python"
    }
  },
  "cells": [
    {
      "cell_type": "markdown",
      "metadata": {
        "id": "view-in-github",
        "colab_type": "text"
      },
      "source": [
        "<a href=\"https://colab.research.google.com/github/NIKHILUDDAGIRI/fml-lab/blob/main/NLP.ipynb\" target=\"_parent\"><img src=\"https://colab.research.google.com/assets/colab-badge.svg\" alt=\"Open In Colab\"/></a>"
      ]
    },
    {
      "cell_type": "markdown",
      "source": [
        "\n",
        "\n",
        "--stop words using nltk\n"
      ],
      "metadata": {
        "id": "GN_FthnkFMfI"
      }
    },
    {
      "cell_type": "code",
      "execution_count": 21,
      "metadata": {
        "colab": {
          "base_uri": "https://localhost:8080/"
        },
        "id": "ZbjIHlIFBEq3",
        "outputId": "a7172f97-b54f-4523-b074-36e43bf6c639"
      },
      "outputs": [
        {
          "output_type": "stream",
          "name": "stderr",
          "text": [
            "[nltk_data] Downloading package stopwords to /root/nltk_data...\n",
            "[nltk_data]   Package stopwords is already up-to-date!\n",
            "[nltk_data] Downloading package punkt to /root/nltk_data...\n",
            "[nltk_data]   Unzipping tokenizers/punkt.zip.\n"
          ]
        },
        {
          "output_type": "stream",
          "name": "stdout",
          "text": [
            "['i', 'me', 'my', 'myself', 'we', 'our', 'ours', 'ourselves', 'you', \"you're\", \"you've\", \"you'll\", \"you'd\", 'your', 'yours', 'yourself', 'yourselves', 'he', 'him', 'his', 'himself', 'she', \"she's\", 'her', 'hers', 'herself', 'it', \"it's\", 'its', 'itself', 'they', 'them', 'their', 'theirs', 'themselves', 'what', 'which', 'who', 'whom', 'this', 'that', \"that'll\", 'these', 'those', 'am', 'is', 'are', 'was', 'were', 'be', 'been', 'being', 'have', 'has', 'had', 'having', 'do', 'does', 'did', 'doing', 'a', 'an', 'the', 'and', 'but', 'if', 'or', 'because', 'as', 'until', 'while', 'of', 'at', 'by', 'for', 'with', 'about', 'against', 'between', 'into', 'through', 'during', 'before', 'after', 'above', 'below', 'to', 'from', 'up', 'down', 'in', 'out', 'on', 'off', 'over', 'under', 'again', 'further', 'then', 'once', 'here', 'there', 'when', 'where', 'why', 'how', 'all', 'any', 'both', 'each', 'few', 'more', 'most', 'other', 'some', 'such', 'no', 'nor', 'not', 'only', 'own', 'same', 'so', 'than', 'too', 'very', 's', 't', 'can', 'will', 'just', 'don', \"don't\", 'should', \"should've\", 'now', 'd', 'll', 'm', 'o', 're', 've', 'y', 'ain', 'aren', \"aren't\", 'couldn', \"couldn't\", 'didn', \"didn't\", 'doesn', \"doesn't\", 'hadn', \"hadn't\", 'hasn', \"hasn't\", 'haven', \"haven't\", 'isn', \"isn't\", 'ma', 'mightn', \"mightn't\", 'mustn', \"mustn't\", 'needn', \"needn't\", 'shan', \"shan't\", 'shouldn', \"shouldn't\", 'wasn', \"wasn't\", 'weren', \"weren't\", 'won', \"won't\", 'wouldn', \"wouldn't\"]\n"
          ]
        }
      ],
      "source": [
        "import nltk\n",
        "from nltk.corpus import stopwords\n",
        "nltk.download('stopwords')\n",
        "nltk.download('punkt')\n",
        "print(stopwords.words('english'))"
      ]
    },
    {
      "cell_type": "markdown",
      "source": [
        "**removing stop words from sentence**"
      ],
      "metadata": {
        "id": "Qa2Cqk_OFvsn"
      }
    },
    {
      "cell_type": "code",
      "source": [
        "from nltk.corpus import stopwords\n",
        "from nltk.tokenize import word_tokenize\n",
        "example_sent=\"\"\"Removed warning when calling await to make it render as code\n",
        "\n",
        "Added \"Run selection\" to the cell context menu\n",
        "Added highlighting for the %%python cell magicLaunched AI coding features for Pro/Pro+ users in more locales\n",
        "Python package upgrades\"\"\"\n",
        "stop_words=set(stopwords.words('english'))\n",
        "\n"
      ],
      "metadata": {
        "id": "ByJcULddGBe3"
      },
      "execution_count": 24,
      "outputs": []
    },
    {
      "cell_type": "code",
      "source": [
        "word_tokens=word_tokenize(example_sent)\n",
        "filtered_sentence=[w for w in word_tokens if not w.lower() in stop_words]\n",
        "filtered_sentence=[]\n",
        "print(word_tokens)\n",
        "print(filtered_sentence)\n",
        "\n"
      ],
      "metadata": {
        "colab": {
          "base_uri": "https://localhost:8080/"
        },
        "id": "zsE-rLVAOVA5",
        "outputId": "5dd2aecf-3460-49b3-c5c7-9d50f5ba7aed"
      },
      "execution_count": 25,
      "outputs": [
        {
          "output_type": "stream",
          "name": "stdout",
          "text": [
            "['Removed', 'warning', 'when', 'calling', 'await', 'to', 'make', 'it', 'render', 'as', 'code', 'Added', '``', 'Run', 'selection', \"''\", 'to', 'the', 'cell', 'context', 'menu', 'Added', 'highlighting', 'for', 'the', '%', '%', 'python', 'cell', 'magicLaunched', 'AI', 'coding', 'features', 'for', 'Pro/Pro+', 'users', 'in', 'more', 'locales', 'Python', 'package', 'upgrades']\n",
            "[]\n"
          ]
        }
      ]
    },
    {
      "cell_type": "markdown",
      "source": [
        "**to remove punctuations**"
      ],
      "metadata": {
        "id": "buUDeK5YPN5a"
      }
    },
    {
      "cell_type": "code",
      "source": [
        "import string\n",
        "\n",
        "test_str = 'Gfg, is best: for ! Geeks ;'\n",
        "\n",
        "test_str = test_str.translate\n",
        "(str.maketrans('', '', string.punctuation))\n",
        "print(test_str)"
      ],
      "metadata": {
        "colab": {
          "base_uri": "https://localhost:8080/"
        },
        "id": "zRQDSGsLPeaS",
        "outputId": "5fe6210d-5720-4c69-e8f5-c0c5c3caf75c"
      },
      "execution_count": 43,
      "outputs": [
        {
          "output_type": "stream",
          "name": "stdout",
          "text": [
            "<built-in method translate of str object at 0x7b142ea48b70>\n"
          ]
        }
      ]
    },
    {
      "cell_type": "code",
      "source": [],
      "metadata": {
        "id": "TONDg_KwThRS"
      },
      "execution_count": null,
      "outputs": []
    },
    {
      "cell_type": "markdown",
      "source": [
        "**using split method**"
      ],
      "metadata": {
        "id": "HZd8NMwaP2-x"
      }
    },
    {
      "cell_type": "markdown",
      "source": [
        "words tokenization"
      ],
      "metadata": {
        "id": "0OrvZZtXSFLQ"
      }
    },
    {
      "cell_type": "code",
      "source": [
        "text = ''' The Eastern Ghats are a major dividing line separating coastal plains and peneplains. The coastal plains are part of Coastal Andhra. These are mostly delta regions formed by the Krishna, Godavari, and Penna rivers. Peneplains are part of Rayalaseema. 60% of the population is engaged in agriculture and related activities. Rice is the state's major food crop and staple food. The state contributes 10% of total fish production and over 70% of shrimp production in India. Industry sectors such as food products, non-metallic minerals, textiles, and pharmaceuticals are the top employment providers'''\n",
        "tokens = text.split()\n",
        "\n",
        "print(tokens)\n",
        "print(\"No.of tokens : \", len(tokens))\n"
      ],
      "metadata": {
        "id": "kzJktsO2P_E3",
        "colab": {
          "base_uri": "https://localhost:8080/"
        },
        "outputId": "2f0a9b84-ce34-4fc4-c544-ced7423b155f"
      },
      "execution_count": 26,
      "outputs": [
        {
          "output_type": "stream",
          "name": "stdout",
          "text": [
            "['The', 'Eastern', 'Ghats', 'are', 'a', 'major', 'dividing', 'line', 'separating', 'coastal', 'plains', 'and', 'peneplains.', 'The', 'coastal', 'plains', 'are', 'part', 'of', 'Coastal', 'Andhra.', 'These', 'are', 'mostly', 'delta', 'regions', 'formed', 'by', 'the', 'Krishna,', 'Godavari,', 'and', 'Penna', 'rivers.', 'Peneplains', 'are', 'part', 'of', 'Rayalaseema.', '60%', 'of', 'the', 'population', 'is', 'engaged', 'in', 'agriculture', 'and', 'related', 'activities.', 'Rice', 'is', 'the', \"state's\", 'major', 'food', 'crop', 'and', 'staple', 'food.', 'The', 'state', 'contributes', '10%', 'of', 'total', 'fish', 'production', 'and', 'over', '70%', 'of', 'shrimp', 'production', 'in', 'India.', 'Industry', 'sectors', 'such', 'as', 'food', 'products,', 'non-metallic', 'minerals,', 'textiles,', 'and', 'pharmaceuticals', 'are', 'the', 'top', 'employment', 'providers']\n",
            "No.of tokens :  92\n"
          ]
        }
      ]
    },
    {
      "cell_type": "markdown",
      "source": [
        "sentence tokenization"
      ],
      "metadata": {
        "id": "mMJ54e2eRAKA"
      }
    },
    {
      "cell_type": "code",
      "source": [
        "text = '''The Eastern Ghats are a major dividing line separating coastal plains and peneplains. The coastal plains are part of Coastal Andhra. These are mostly delta regions formed by the Krishna, Godavari, and Penna rivers. Peneplains are part of Rayalaseema. 60% of the population is engaged in agriculture and related activities. Rice is the state's major food crop and staple food. The state contributes 10% of total fish production and over 70% of shrimp production in India. Industry sectors such as food products, non-metallic minerals, textiles, and pharmaceuticals are the top employment providers'''\n",
        "sentences = text.split('.')\n",
        "print(sentences)\n",
        "print(\"No.of sentences : \", len(sentences))"
      ],
      "metadata": {
        "colab": {
          "base_uri": "https://localhost:8080/"
        },
        "id": "RHQOVcWJRHcv",
        "outputId": "e5a7229d-0394-42d7-f79c-c0494eb188be"
      },
      "execution_count": 27,
      "outputs": [
        {
          "output_type": "stream",
          "name": "stdout",
          "text": [
            "['The Eastern Ghats are a major dividing line separating coastal plains and peneplains', ' The coastal plains are part of Coastal Andhra', ' These are mostly delta regions formed by the Krishna, Godavari, and Penna rivers', ' Peneplains are part of Rayalaseema', ' 60% of the population is engaged in agriculture and related activities', \" Rice is the state's major food crop and staple food\", ' The state contributes 10% of total fish production and over 70% of shrimp production in India', ' Industry sectors such as food products, non-metallic minerals, textiles, and pharmaceuticals are the top employment providers']\n",
            "No.of sentences :  8\n"
          ]
        }
      ]
    },
    {
      "cell_type": "markdown",
      "source": [
        "**using regular expressions**"
      ],
      "metadata": {
        "id": "BYdEXaNPRwb4"
      }
    },
    {
      "cell_type": "markdown",
      "source": [
        "word tokenization"
      ],
      "metadata": {
        "id": "DEB8EVvHSKR3"
      }
    },
    {
      "cell_type": "code",
      "source": [
        "import re\n",
        "tokens = re.findall(\"[\\w']+\", text)\n",
        "print(tokens)\n",
        "print(\"No.of tokens : \", len(tokens))\n"
      ],
      "metadata": {
        "colab": {
          "base_uri": "https://localhost:8080/"
        },
        "id": "YcaoWkLiR8jL",
        "outputId": "fa378af0-b652-401d-9b74-8aefd80abf6a"
      },
      "execution_count": 28,
      "outputs": [
        {
          "output_type": "stream",
          "name": "stdout",
          "text": [
            "['The', 'Eastern', 'Ghats', 'are', 'a', 'major', 'dividing', 'line', 'separating', 'coastal', 'plains', 'and', 'peneplains', 'The', 'coastal', 'plains', 'are', 'part', 'of', 'Coastal', 'Andhra', 'These', 'are', 'mostly', 'delta', 'regions', 'formed', 'by', 'the', 'Krishna', 'Godavari', 'and', 'Penna', 'rivers', 'Peneplains', 'are', 'part', 'of', 'Rayalaseema', '60', 'of', 'the', 'population', 'is', 'engaged', 'in', 'agriculture', 'and', 'related', 'activities', 'Rice', 'is', 'the', \"state's\", 'major', 'food', 'crop', 'and', 'staple', 'food', 'The', 'state', 'contributes', '10', 'of', 'total', 'fish', 'production', 'and', 'over', '70', 'of', 'shrimp', 'production', 'in', 'India', 'Industry', 'sectors', 'such', 'as', 'food', 'products', 'non', 'metallic', 'minerals', 'textiles', 'and', 'pharmaceuticals', 'are', 'the', 'top', 'employment', 'providers']\n",
            "No.of tokens :  93\n"
          ]
        }
      ]
    },
    {
      "cell_type": "markdown",
      "source": [
        "sentence tokenization"
      ],
      "metadata": {
        "id": "QxEHK_F8STl2"
      }
    },
    {
      "cell_type": "code",
      "source": [
        "sentences = re.compile('[.?!] ').split(text)\n",
        "print(sentences)\n",
        "print(\"No.of sentences : \", len(sentences))\n"
      ],
      "metadata": {
        "colab": {
          "base_uri": "https://localhost:8080/"
        },
        "id": "PQR2LHNLSY3v",
        "outputId": "e8759306-f5a5-48db-a042-e70e92a09cd2"
      },
      "execution_count": 29,
      "outputs": [
        {
          "output_type": "stream",
          "name": "stdout",
          "text": [
            "['The Eastern Ghats are a major dividing line separating coastal plains and peneplains', 'The coastal plains are part of Coastal Andhra', 'These are mostly delta regions formed by the Krishna, Godavari, and Penna rivers', 'Peneplains are part of Rayalaseema', '60% of the population is engaged in agriculture and related activities', \"Rice is the state's major food crop and staple food\", 'The state contributes 10% of total fish production and over 70% of shrimp production in India', 'Industry sectors such as food products, non-metallic minerals, textiles, and pharmaceuticals are the top employment providers']\n",
            "No.of sentences :  8\n"
          ]
        }
      ]
    },
    {
      "cell_type": "markdown",
      "source": [
        "**using nltk method**"
      ],
      "metadata": {
        "id": "c9LEOiSlSimp"
      }
    },
    {
      "cell_type": "code",
      "source": [
        "import nltk\n",
        "nltk.download('punkt')"
      ],
      "metadata": {
        "colab": {
          "base_uri": "https://localhost:8080/"
        },
        "id": "GI3oTN7NSrM5",
        "outputId": "2157e3a4-0bb0-4a4b-f894-b0eb2daa6ad5"
      },
      "execution_count": 30,
      "outputs": [
        {
          "output_type": "stream",
          "name": "stderr",
          "text": [
            "[nltk_data] Downloading package punkt to /root/nltk_data...\n",
            "[nltk_data]   Package punkt is already up-to-date!\n"
          ]
        },
        {
          "output_type": "execute_result",
          "data": {
            "text/plain": [
              "True"
            ]
          },
          "metadata": {},
          "execution_count": 30
        }
      ]
    },
    {
      "cell_type": "code",
      "source": [
        "from nltk.tokenize import word_tokenize\n",
        "tokens = word_tokenize(text)\n",
        "print(tokens)\n",
        "print(\"No.of tokens : \", len(tokens))"
      ],
      "metadata": {
        "colab": {
          "base_uri": "https://localhost:8080/"
        },
        "id": "R-gED1WbTCj4",
        "outputId": "9deca2ec-9593-4537-f6eb-baaef4fbc2b5"
      },
      "execution_count": 31,
      "outputs": [
        {
          "output_type": "stream",
          "name": "stdout",
          "text": [
            "['The', 'Eastern', 'Ghats', 'are', 'a', 'major', 'dividing', 'line', 'separating', 'coastal', 'plains', 'and', 'peneplains', '.', 'The', 'coastal', 'plains', 'are', 'part', 'of', 'Coastal', 'Andhra', '.', 'These', 'are', 'mostly', 'delta', 'regions', 'formed', 'by', 'the', 'Krishna', ',', 'Godavari', ',', 'and', 'Penna', 'rivers', '.', 'Peneplains', 'are', 'part', 'of', 'Rayalaseema', '.', '60', '%', 'of', 'the', 'population', 'is', 'engaged', 'in', 'agriculture', 'and', 'related', 'activities', '.', 'Rice', 'is', 'the', 'state', \"'s\", 'major', 'food', 'crop', 'and', 'staple', 'food', '.', 'The', 'state', 'contributes', '10', '%', 'of', 'total', 'fish', 'production', 'and', 'over', '70', '%', 'of', 'shrimp', 'production', 'in', 'India', '.', 'Industry', 'sectors', 'such', 'as', 'food', 'products', ',', 'non-metallic', 'minerals', ',', 'textiles', ',', 'and', 'pharmaceuticals', 'are', 'the', 'top', 'employment', 'providers']\n",
            "No.of tokens :  108\n"
          ]
        }
      ]
    },
    {
      "cell_type": "code",
      "source": [
        "from nltk.tokenize import sent_tokenize\n",
        "sentences = sent_tokenize(text)\n",
        "print(sentences)\n",
        "print(\"No.of sentences : \", len(sentences))"
      ],
      "metadata": {
        "colab": {
          "base_uri": "https://localhost:8080/"
        },
        "id": "W9Naf_yhTLLn",
        "outputId": "08fcc079-8abf-4df9-dc4f-34a382814b3d"
      },
      "execution_count": 32,
      "outputs": [
        {
          "output_type": "stream",
          "name": "stdout",
          "text": [
            "['The Eastern Ghats are a major dividing line separating coastal plains and peneplains.', 'The coastal plains are part of Coastal Andhra.', 'These are mostly delta regions formed by the Krishna, Godavari, and Penna rivers.', 'Peneplains are part of Rayalaseema.', '60% of the population is engaged in agriculture and related activities.', \"Rice is the state's major food crop and staple food.\", 'The state contributes 10% of total fish production and over 70% of shrimp production in India.', 'Industry sectors such as food products, non-metallic minerals, textiles, and pharmaceuticals are the top employment providers']\n",
            "No.of sentences :  8\n"
          ]
        }
      ]
    },
    {
      "cell_type": "markdown",
      "source": [
        "**stemming**"
      ],
      "metadata": {
        "id": "jYpKQlp4ULPD"
      }
    },
    {
      "cell_type": "code",
      "source": [
        "from nltk.stem import PorterStemmer\n",
        "\n"
      ],
      "metadata": {
        "id": "aCOZ_f_mUSVA"
      },
      "execution_count": 33,
      "outputs": []
    },
    {
      "cell_type": "code",
      "source": [
        "porter = PorterStemmer()\n",
        "print(porter.stem(\"cats\"))\n",
        "print(porter.stem(\"troubling\"))\n",
        ""
      ],
      "metadata": {
        "colab": {
          "base_uri": "https://localhost:8080/"
        },
        "id": "Dcr4R2FfUW1o",
        "outputId": "5255cf2c-6330-44bb-ec94-ae8b5598aeb6"
      },
      "execution_count": 34,
      "outputs": [
        {
          "output_type": "stream",
          "name": "stdout",
          "text": [
            "cat\n",
            "troubl\n"
          ]
        }
      ]
    },
    {
      "cell_type": "code",
      "source": [
        "from nltk.stem import PorterStemmer\n",
        "porter = PorterStemmer()\n",
        "\n",
        "sentence=\"The Eastern Ghats are a major dividing line separating coastal plains and peneplains. The coastal plains are part of Coastal Andhra. These are mostly delta regions formed by the Krishna, Godavari, and Penna rivers. Peneplains are part of Rayalaseema. 60% of the population is engaged in agriculture and related activities. Rice is the state's major food crop and staple food. The state contributes 10% of total fish production and over 70% of shrimp production in India. Industry sectors such as food products, non-metallic minerals, textiles, and pharmaceuticals are the top employment providers\"\n",
        "\n",
        "\n",
        "from nltk.tokenize import sent_tokenize, word_tokenize\n",
        "\n",
        "def stemSentence(sentence):\n",
        "    token_words=word_tokenize(sentence)\n",
        "    print(token_words)\n",
        "    stem_sentence=[]\n",
        "    for word in token_words:\n",
        "        stem_sentence.append(porter.stem(word))\n",
        "        stem_sentence.append(\" \")\n",
        "    return \"\".join(stem_sentence)\n",
        "\n",
        "x=stemSentence(sentence)\n",
        "print(\"Sentence after stemming :\", x)"
      ],
      "metadata": {
        "colab": {
          "base_uri": "https://localhost:8080/"
        },
        "id": "Z6PxJlo0UbcY",
        "outputId": "807433fa-a3ba-41f2-e797-58a586424a09"
      },
      "execution_count": 36,
      "outputs": [
        {
          "output_type": "stream",
          "name": "stdout",
          "text": [
            "['The', 'Eastern', 'Ghats', 'are', 'a', 'major', 'dividing', 'line', 'separating', 'coastal', 'plains', 'and', 'peneplains', '.', 'The', 'coastal', 'plains', 'are', 'part', 'of', 'Coastal', 'Andhra', '.', 'These', 'are', 'mostly', 'delta', 'regions', 'formed', 'by', 'the', 'Krishna', ',', 'Godavari', ',', 'and', 'Penna', 'rivers', '.', 'Peneplains', 'are', 'part', 'of', 'Rayalaseema', '.', '60', '%', 'of', 'the', 'population', 'is', 'engaged', 'in', 'agriculture', 'and', 'related', 'activities', '.', 'Rice', 'is', 'the', 'state', \"'s\", 'major', 'food', 'crop', 'and', 'staple', 'food', '.', 'The', 'state', 'contributes', '10', '%', 'of', 'total', 'fish', 'production', 'and', 'over', '70', '%', 'of', 'shrimp', 'production', 'in', 'India', '.', 'Industry', 'sectors', 'such', 'as', 'food', 'products', ',', 'non-metallic', 'minerals', ',', 'textiles', ',', 'and', 'pharmaceuticals', 'are', 'the', 'top', 'employment', 'providers']\n",
            "Sentence after stemming : the eastern ghat are a major divid line separ coastal plain and peneplain . the coastal plain are part of coastal andhra . these are mostli delta region form by the krishna , godavari , and penna river . peneplain are part of rayalaseema . 60 % of the popul is engag in agricultur and relat activ . rice is the state 's major food crop and stapl food . the state contribut 10 % of total fish product and over 70 % of shrimp product in india . industri sector such as food product , non-metal miner , textil , and pharmaceut are the top employ provid \n"
          ]
        }
      ]
    },
    {
      "cell_type": "markdown",
      "source": [
        "**lemmatization**"
      ],
      "metadata": {
        "id": "azae_dojVQYg"
      }
    },
    {
      "cell_type": "code",
      "source": [
        "import nltk\n",
        "from nltk.stem import WordNetLemmatizer\n",
        "nltk.download('wordnet')\n",
        "wordnet_lemmatizer = WordNetLemmatizer()\n",
        "\n",
        "sentence = \"The Eastern Ghats are a major dividing line separating coastal plains and peneplains. The coastal plains are part of Coastal Andhra. These are mostly delta regions formed by the Krishna, Godavari, and Penna rivers. Peneplains are part of Rayalaseema. 60% of the population is engaged in agriculture and related activities. Rice is the state's major food crop and staple food. The state contributes 10% of total fish production and over 70% of shrimp production in India. Industry sectors such as food products, non-metallic minerals, textiles, and pharmaceuticals are the top employment providers\"\n",
        "punctuations=\"?:!.,;\"\n",
        "token_words = nltk.word_tokenize(sentence)\n",
        "print(token_words)\n",
        "\n",
        "lemma_sentence=[]\n",
        "for word in token_words:\n",
        "  lemma_sentence.append(wordnet_lemmatizer.lemmatize(word))\n",
        "  lemma_sentence.append(\" \")\n",
        "\n",
        "print(\"lemmas of tokens: \", ''.join(lemma_sentence))\n"
      ],
      "metadata": {
        "colab": {
          "base_uri": "https://localhost:8080/"
        },
        "id": "dSRCXWo1VrUA",
        "outputId": "0309a98e-ad5e-412b-849c-3f15bf761267"
      },
      "execution_count": 41,
      "outputs": [
        {
          "output_type": "stream",
          "name": "stdout",
          "text": [
            "['The', 'Eastern', 'Ghats', 'are', 'a', 'major', 'dividing', 'line', 'separating', 'coastal', 'plains', 'and', 'peneplains', '.', 'The', 'coastal', 'plains', 'are', 'part', 'of', 'Coastal', 'Andhra', '.', 'These', 'are', 'mostly', 'delta', 'regions', 'formed', 'by', 'the', 'Krishna', ',', 'Godavari', ',', 'and', 'Penna', 'rivers', '.', 'Peneplains', 'are', 'part', 'of', 'Rayalaseema', '.', '60', '%', 'of', 'the', 'population', 'is', 'engaged', 'in', 'agriculture', 'and', 'related', 'activities', '.', 'Rice', 'is', 'the', 'state', \"'s\", 'major', 'food', 'crop', 'and', 'staple', 'food', '.', 'The', 'state', 'contributes', '10', '%', 'of', 'total', 'fish', 'production', 'and', 'over', '70', '%', 'of', 'shrimp', 'production', 'in', 'India', '.', 'Industry', 'sectors', 'such', 'as', 'food', 'products', ',', 'non-metallic', 'minerals', ',', 'textiles', ',', 'and', 'pharmaceuticals', 'are', 'the', 'top', 'employment', 'providers']\n",
            "lemmas of tokens:  The Eastern Ghats are a major dividing line separating coastal plain and peneplain . The coastal plain are part of Coastal Andhra . These are mostly delta region formed by the Krishna , Godavari , and Penna river . Peneplains are part of Rayalaseema . 60 % of the population is engaged in agriculture and related activity . Rice is the state 's major food crop and staple food . The state contributes 10 % of total fish production and over 70 % of shrimp production in India . Industry sector such a food product , non-metallic mineral , textile , and pharmaceutical are the top employment provider \n"
          ]
        },
        {
          "output_type": "stream",
          "name": "stderr",
          "text": [
            "[nltk_data] Downloading package wordnet to /root/nltk_data...\n",
            "[nltk_data]   Package wordnet is already up-to-date!\n"
          ]
        }
      ]
    }
  ]
}